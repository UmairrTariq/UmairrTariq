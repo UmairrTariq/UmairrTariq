{
 "cells": [
  {
   "cell_type": "markdown",
   "metadata": {},
   "source": [
    "Continuation of the previous video..\n",
    "In this video we talk about padding and Label frame."
   ]
  },
  {
   "cell_type": "code",
   "execution_count": 6,
   "metadata": {},
   "outputs": [],
   "source": [
    "#  Padding\n",
    "import tkinter as tk\n",
    "from tkinter import ttk\n",
    "win = tk.Tk()\n",
    "win.title(\"LOOPS\")\n",
    "# LABELS\n",
    "Labels = ['Name', 'age','gender','country','state','city']\n",
    "for i in range(len(Labels)):\n",
    "    cur_label = str(i)\n",
    "    cur_label = ttk.Label(win,text=Labels[i])\n",
    "    cur_label.grid(row = i, column = 0, sticky = tk.W,padx=2,pady=0)\n",
    "    \n",
    "# Entrybox\n",
    "user_info = {\n",
    "    'name' : tk.StringVar(),\n",
    "    'age' : tk.StringVar(),\n",
    "    'gender' : tk.StringVar(),\n",
    "    'country' : tk.StringVar(),\n",
    "    'state' : tk.StringVar(),\n",
    "    'city' : tk.StringVar()\n",
    "}\n",
    "counter = 0\n",
    "for i in user_info:\n",
    "    cur_entrybox = \"Entry\" + i\n",
    "    cur_entrybox = ttk.Entry(win,width = 16, textvariable = user_info[i])\n",
    "    cur_entrybox.grid(column = 1,row = counter,padx=2,pady=2)\n",
    "    counter += 1\n",
    "# Submit\n",
    "def submit():\n",
    "    for u in user_info:\n",
    "        print(user_info[u].get())\n",
    "submit_btn = ttk.Button(win,text='Submit',command = submit)\n",
    "submit_btn.grid(row = 6, columnspan = 2)\n",
    "win.mainloop()"
   ]
  },
  {
   "cell_type": "code",
   "execution_count": 13,
   "metadata": {},
   "outputs": [],
   "source": [
    "# Label Frame\n",
    "import tkinter as tk\n",
    "from tkinter import ttk\n",
    "\n",
    "win = tk.Tk()\n",
    "win.title(\"Label Frame\")\n",
    "label_frame = ttk.LabelFrame(win,text='Enter your details below...!')\n",
    "label_frame.grid(row=0,column=0,padx=40)\n",
    "\n",
    "# LABELS\n",
    "Labels = ['Name', 'age','gender','country','state','city']\n",
    "for i in range(len(Labels)):\n",
    "    cur_label = str(i)\n",
    "    cur_label = ttk.Label(label_frame,text=Labels[i])\n",
    "    cur_label.grid(row = i, column = 0, sticky = tk.W)\n",
    "\n",
    "# Entrybox\n",
    "user_info = {\n",
    "    'name' : tk.StringVar(),\n",
    "    'age' : tk.StringVar(),\n",
    "    'gender' : tk.StringVar(),\n",
    "    'country' : tk.StringVar(),\n",
    "    'state' : tk.StringVar(),\n",
    "    'city' : tk.StringVar()\n",
    "}\n",
    "counter = 0\n",
    "for i in user_info:\n",
    "    cur_entrybox = \"Entry\" + i\n",
    "    cur_entrybox = ttk.Entry(label_frame,width = 16, textvariable = user_info[i])\n",
    "    cur_entrybox.grid(column = 1,row = counter)\n",
    "    counter += 1\n",
    "\n",
    "#  Submit Btn\n",
    "def submit():\n",
    "    for u in user_info:\n",
    "        print(user_info[u].get())\n",
    "submit_btn = ttk.Button(label_frame,text='Submit',command = submit)\n",
    "submit_btn.grid(row = 6, columnspan = 2)\n",
    "for i in label_frame.winfo_children():\n",
    "    i.grid_configure(padx=20,pady=20)\n",
    "win.mainloop()"
   ]
  },
  {
   "cell_type": "code",
   "execution_count": null,
   "metadata": {},
   "outputs": [],
   "source": []
  }
 ],
 "metadata": {
  "kernelspec": {
   "display_name": "Python 3",
   "language": "python",
   "name": "python3"
  },
  "language_info": {
   "codemirror_mode": {
    "name": "ipython",
    "version": 3
   },
   "file_extension": ".py",
   "mimetype": "text/x-python",
   "name": "python",
   "nbconvert_exporter": "python",
   "pygments_lexer": "ipython3",
   "version": "3.7.1"
  }
 },
 "nbformat": 4,
 "nbformat_minor": 2
}
