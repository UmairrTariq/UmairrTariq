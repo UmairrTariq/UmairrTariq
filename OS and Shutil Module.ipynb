{
 "cells": [
  {
   "cell_type": "markdown",
   "metadata": {},
   "source": [
    "1) What is OS module\n",
    "    . How can we check recent directory\n",
    "    . How can we edit folder (create,delete etc)\n",
    "2) What is Shutil Module\n",
    "    . Syntax"
   ]
  },
  {
   "cell_type": "code",
   "execution_count": 16,
   "metadata": {},
   "outputs": [],
   "source": [
    "# import os\n",
    "# print(os.getcwd())\n",
    "# print(os.path.exists(\"Movies\"))\n",
    "# os.mkdir(\"Movies\")\n",
    "# print(os.listdir())\n",
    "# for i in os.listdir():\n",
    "#     print(os.path.join(os.getcwd()),i)\n",
    "# c = os.walk(r'C:\\Users\\Dell\\Downloads')\n",
    "# for current_path,folder_names,file_names in c:\n",
    "#     print(f'Current path is : {current_path}')\n",
    "#     print(f'The Folder name is {folder_names}')\n",
    "#     print(f'The file names are {file_names}')\n",
    "# os.rmdir(\"Movies\")"
   ]
  },
  {
   "cell_type": "code",
   "execution_count": 45,
   "metadata": {},
   "outputs": [
    {
     "data": {
      "text/plain": [
       "'C:\\\\Users\\\\Dell\\\\OneDrive\\\\Desktop\\\\u.py'"
      ]
     },
     "execution_count": 45,
     "metadata": {},
     "output_type": "execute_result"
    }
   ],
   "source": [
    "import shutil\n",
    "# shutil.rmtree('MY_FOLDER')\n",
    "# shutil.copytree('MY_FOLDER','MY_FOLDER/file1')\n",
    "# shutil.copy('file.txt','MY_FOLDER/file.txt')\n",
    "shutil.move(r'C:\\Users\\Dell\\u.py',r'C:\\Users\\Dell\\OneDrive\\Desktop')"
   ]
  },
  {
   "cell_type": "code",
   "execution_count": null,
   "metadata": {},
   "outputs": [],
   "source": []
  }
 ],
 "metadata": {
  "kernelspec": {
   "display_name": "Python 3",
   "language": "python",
   "name": "python3"
  },
  "language_info": {
   "codemirror_mode": {
    "name": "ipython",
    "version": 3
   },
   "file_extension": ".py",
   "mimetype": "text/x-python",
   "name": "python",
   "nbconvert_exporter": "python",
   "pygments_lexer": "ipython3",
   "version": "3.7.1"
  }
 },
 "nbformat": 4,
 "nbformat_minor": 2
}
