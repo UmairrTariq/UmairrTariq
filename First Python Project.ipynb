{
 "cells": [
  {
   "cell_type": "raw",
   "metadata": {},
   "source": [
    "First Python Project For Beginners...\n",
    ". In any specific folder there are three types of files audio,video and text files. we need to seperate\n",
    "these files like\n",
    "    ... All Audio files must be in one audio folder\n",
    "    ... All video files must be in one Video folder\n",
    "    ... All Text files must be in one text folder"
   ]
  },
  {
   "cell_type": "code",
   "execution_count": 1,
   "metadata": {},
   "outputs": [],
   "source": [
    "import os,shutil\n",
    "d = {\n",
    "    'audio_ext' : ('.mp3','.wav','.flac'),\n",
    "    'video_ext' : ('.mp4','.mkv','.flv','.mpeg','.wmv'),\n",
    "    'text_ext' : ('.docx','.txt','.pdf')\n",
    "}\n",
    "folder = r'C:\\Users\\Dell\\OneDrive\\Desktop\\client\\Test'\n",
    "def file_finder(folder,files):\n",
    "    return [i for i in os.listdir(folder) for ext in files if i.endswith(ext)]\n",
    "for key,value in d.items():\n",
    "    folder_name = key.split('_')[0]+' files'\n",
    "    folder_path = os.path.join(folder,folder_name)\n",
    "    os.mkdir(folder_path)\n",
    "    for item in (file_finder(folder,value)):\n",
    "        item_path = os.path.join(folder,item)\n",
    "        item_new_path = os.path.join(folder_path,item)\n",
    "        shutil.move(item_path,item_new_path)"
   ]
  },
  {
   "cell_type": "code",
   "execution_count": null,
   "metadata": {},
   "outputs": [],
   "source": []
  },
  {
   "cell_type": "code",
   "execution_count": null,
   "metadata": {},
   "outputs": [],
   "source": []
  }
 ],
 "metadata": {
  "kernelspec": {
   "display_name": "Python 3",
   "language": "python",
   "name": "python3"
  },
  "language_info": {
   "codemirror_mode": {
    "name": "ipython",
    "version": 3
   },
   "file_extension": ".py",
   "mimetype": "text/x-python",
   "name": "python",
   "nbconvert_exporter": "python",
   "pygments_lexer": "ipython3",
   "version": "3.7.1"
  }
 },
 "nbformat": 4,
 "nbformat_minor": 2
}
