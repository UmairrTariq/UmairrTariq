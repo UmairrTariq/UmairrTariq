{
 "cells": [
  {
   "cell_type": "raw",
   "metadata": {},
   "source": [
    "1) What are errors in programming?\n",
    "    . How can we raise errors when require?\n",
    "        - Two Examples\n",
    "2) Exception Handling\n",
    "    . Example Program\n",
    "3) Custom Exception\n",
    "4) Debugging"
   ]
  },
  {
   "cell_type": "code",
   "execution_count": null,
   "metadata": {},
   "outputs": [],
   "source": [
    "def add(a,b):\n",
    "    if type(a)==int and type(b)==int:\n",
    "        return a+b\n",
    "    else:\n",
    "        raise TypeError(\"OOps u are using wrong datatype\")\n",
    "print(add(2,4))"
   ]
  },
  {
   "cell_type": "code",
   "execution_count": 12,
   "metadata": {},
   "outputs": [
    {
     "name": "stdout",
     "output_type": "stream",
     "text": [
      "meow\n"
     ]
    }
   ],
   "source": [
    "class animal:\n",
    "    def __init__(self,name):\n",
    "        self.name = name\n",
    "    def sound(self):\n",
    "        raise NotImplementedError(\"U have to implement this method with each subclass\")\n",
    "class dog(animal):\n",
    "    def __init__(self,name,breed):\n",
    "        super().__init__(name)\n",
    "        self.breed = breed\n",
    "    def sound(self):\n",
    "        return 'bark'\n",
    "class cat(animal):\n",
    "    def __init__(self,name,breed):\n",
    "        super().__init__(name)\n",
    "        self.breed = breed\n",
    "    def sound(self):\n",
    "        return 'meow'\n",
    "d = cat(\"Tony\",'pug')\n",
    "print(d.sound())\n"
   ]
  },
  {
   "cell_type": "code",
   "execution_count": 16,
   "metadata": {},
   "outputs": [
    {
     "name": "stdout",
     "output_type": "stream",
     "text": [
      "One Plus Six\n"
     ]
    }
   ],
   "source": [
    "class mobile:\n",
    "    def __init__(self,name):\n",
    "        self.name = name\n",
    "class mobile_store:\n",
    "    def __init__(self):\n",
    "        self.mobiles = []\n",
    "    def add(self,new):\n",
    "        if isinstance(new,mobile):\n",
    "            self.mobiles.append(new)\n",
    "        else:\n",
    "            raise TypeError(\"Obj must be add in mobile class\")\n",
    "onepluse = mobile('One Plus Six')\n",
    "s = 'Samsung'\n",
    "m = mobile_store()\n",
    "m.add(onepluse)\n",
    "m1 = m.mobiles\n",
    "print(m1[0].name)"
   ]
  },
  {
   "cell_type": "code",
   "execution_count": 1,
   "metadata": {},
   "outputs": [
    {
     "name": "stdout",
     "output_type": "stream",
     "text": [
      "Enter ur age: 22\n",
      "you can play the game\n"
     ]
    }
   ],
   "source": [
    "#Exception Handling\n",
    "while True:\n",
    "    try:\n",
    "        age = int(input(\"Enter ur age: \"))\n",
    "        break\n",
    "    except ValueError:\n",
    "        print(\"You Entered String Instead of numbers\")\n",
    "    except:\n",
    "        print(\"Unexpected Error\")\n",
    "if age>=18:\n",
    "    print(\"you can play the game\")\n",
    "else:\n",
    "    print(\"You cannot play this game\")"
   ]
  },
  {
   "cell_type": "code",
   "execution_count": 5,
   "metadata": {},
   "outputs": [
    {
     "name": "stdout",
     "output_type": "stream",
     "text": [
      "1.5\n"
     ]
    }
   ],
   "source": [
    "def div(a,b):\n",
    "    try:\n",
    "        return a/b\n",
    "    except ZeroDivisionError:\n",
    "        print(\"Please do not divided by zero\")\n",
    "    except:\n",
    "        print('Unexpected Error')\n",
    "print(div(3,2))"
   ]
  },
  {
   "cell_type": "code",
   "execution_count": 7,
   "metadata": {},
   "outputs": [
    {
     "name": "stdout",
     "output_type": "stream",
     "text": [
      "Enter ur Name: Umair Tariq\n",
      "Hello user Umair Tariq\n"
     ]
    }
   ],
   "source": [
    "class NameShortError(ValueError):\n",
    "    pass\n",
    "name = input(\"Enter ur Name: \")\n",
    "if len(name)<8:\n",
    "    raise NameShortError(\"Ur name is too short\")\n",
    "else:\n",
    "    print(f\"Hello user {name}\")"
   ]
  },
  {
   "cell_type": "code",
   "execution_count": 1,
   "metadata": {},
   "outputs": [
    {
     "name": "stdout",
     "output_type": "stream",
     "text": [
      "Enter ur Name: Umair\n",
      "Enter ur Age: 22\n",
      "Hello Umair ur age is 22\n",
      "--Return--\n",
      "> <ipython-input-1-c4b3cf9f57cd>(6)<module>()->None\n",
      "-> pdb.set_trace()\n",
      "(Pdb) l\n",
      "  1  \t#Debugging\n",
      "  2  \timport pdb\n",
      "  3  \tname = input(\"Enter ur Name: \")\n",
      "  4  \tage = int(input('Enter ur Age: '))\n",
      "  5  \tprint(f'Hello {name} ur age is {age}')\n",
      "  6  ->\tpdb.set_trace()\n",
      "  7  \ta = age + 5\n",
      "  8  \tprint(f'{name} u will be age {age} in next five years..')\n",
      "[EOF]\n",
      "(Pdb) n\n",
      "> c:\\users\\dell\\anaconda3\\lib\\site-packages\\ipython\\core\\interactiveshell.py(3270)run_code()\n",
      "-> sys.excepthook = old_excepthook\n",
      "(Pdb) c\n",
      "Umair u will be age 22 in next five years..\n"
     ]
    }
   ],
   "source": [
    "#Debugging\n",
    "import pdb\n",
    "name = input(\"Enter ur Name: \")\n",
    "age = int(input('Enter ur Age: '))\n",
    "print(f'Hello {name} ur age is {age}')\n",
    "pdb.set_trace()\n",
    "a = age + 5\n",
    "print(f'{name} u will be age {age} in next five years..')"
   ]
  },
  {
   "cell_type": "code",
   "execution_count": null,
   "metadata": {},
   "outputs": [],
   "source": []
  }
 ],
 "metadata": {
  "kernelspec": {
   "display_name": "Python 3",
   "language": "python",
   "name": "python3"
  },
  "language_info": {
   "codemirror_mode": {
    "name": "ipython",
    "version": 3
   },
   "file_extension": ".py",
   "mimetype": "text/x-python",
   "name": "python",
   "nbconvert_exporter": "python",
   "pygments_lexer": "ipython3",
   "version": "3.7.1"
  }
 },
 "nbformat": 4,
 "nbformat_minor": 2
}
