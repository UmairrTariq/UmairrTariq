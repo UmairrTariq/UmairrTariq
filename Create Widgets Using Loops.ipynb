{
 "cells": [
  {
   "cell_type": "markdown",
   "metadata": {},
   "source": [
    "In this video I am going to show you \"how to use loops to create widgets\""
   ]
  },
  {
   "cell_type": "code",
   "execution_count": 19,
   "metadata": {},
   "outputs": [
    {
     "name": "stdout",
     "output_type": "stream",
     "text": [
      "Umair\n",
      "22\n",
      "male\n",
      "Pak\n",
      "Sindh\n",
      "karachi\n",
      "Umair\n",
      "jkhjghj\n",
      "male\n",
      "Pak\n",
      "Sindh\n",
      "karachi\n"
     ]
    }
   ],
   "source": [
    "import tkinter as tk\n",
    "from tkinter import ttk\n",
    "win = tk.Tk()\n",
    "win.title(\"LOOPS\")\n",
    "# LABELS\n",
    "Labels = ['Name', 'age','gender','country','state','city']\n",
    "for i in range(len(Labels)):\n",
    "    cur_label = str(i)\n",
    "    cur_label = ttk.Label(win,text=Labels[i])\n",
    "    cur_label.grid(row = i, column = 0, sticky = tk.W)\n",
    "    \n",
    "# Entrybox\n",
    "user_info = {\n",
    "    'name' : tk.StringVar(),\n",
    "    'age' : tk.StringVar(),\n",
    "    'gender' : tk.StringVar(),\n",
    "    'country' : tk.StringVar(),\n",
    "    'state' : tk.StringVar(),\n",
    "    'city' : tk.StringVar()\n",
    "}\n",
    "counter = 0\n",
    "for i in user_info:\n",
    "    cur_entrybox = \"Entry\" + i\n",
    "    cur_entrybox = ttk.Entry(win,width = 16, textvariable = user_info[i])\n",
    "    cur_entrybox.grid(column = 1,row = counter)\n",
    "    counter += 1\n",
    "# Submit\n",
    "def submit():\n",
    "    for u in user_info:\n",
    "        print(user_info[u].get())\n",
    "submit_btn = ttk.Button(win,text='Submit',command = submit)\n",
    "submit_btn.grid(row = 6, columnspan = 2)\n",
    "win.mainloop()"
   ]
  },
  {
   "cell_type": "code",
   "execution_count": null,
   "metadata": {},
   "outputs": [],
   "source": []
  },
  {
   "cell_type": "code",
   "execution_count": null,
   "metadata": {},
   "outputs": [],
   "source": []
  }
 ],
 "metadata": {
  "celltoolbar": "Raw Cell Format",
  "kernelspec": {
   "display_name": "Python 3",
   "language": "python",
   "name": "python3"
  },
  "language_info": {
   "codemirror_mode": {
    "name": "ipython",
    "version": 3
   },
   "file_extension": ".py",
   "mimetype": "text/x-python",
   "name": "python",
   "nbconvert_exporter": "python",
   "pygments_lexer": "ipython3",
   "version": "3.7.1"
  }
 },
 "nbformat": 4,
 "nbformat_minor": 2
}
