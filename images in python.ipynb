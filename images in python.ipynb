{
 "cells": [
  {
   "cell_type": "markdown",
   "metadata": {},
   "source": [
    "🔴 Python Image Library (PIL)\n",
    "      . How to change extention of our image e.g .jpg to .png\n",
    "      . Display our image\n",
    "      . Resize our image\n",
    "      . Convert multiple .jpg images into .png\n",
    "🔴 Enhance Image Module in PIL\n",
    "    . Edit sharpness of the image\n",
    "    . Edit brightness of the image\n",
    "    . Edit contrast of the image\n",
    "    . Blur our image"
   ]
  },
  {
   "cell_type": "code",
   "execution_count": 3,
   "metadata": {},
   "outputs": [],
   "source": [
    "from PIL import Image\n",
    "import os\n",
    "img = Image.open(r'C:\\Users\\Dell\\OneDrive\\Desktop\\client\\cat\\cat.jpg')\n",
    "max_size = (170,148)\n",
    "img.thumbnail(max_size)\n",
    "img.save(r'C:\\Users\\Dell\\OneDrive\\Desktop\\client\\cat\\cat_small.png')\n",
    "# img.show()\n",
    "# img.save(r'C:\\Users\\Dell\\OneDrive\\Desktop\\client\\cat\\cat.png')\n"
   ]
  },
  {
   "cell_type": "code",
   "execution_count": 6,
   "metadata": {},
   "outputs": [],
   "source": [
    "from PIL import Image\n",
    "import os\n",
    "for i in os.listdir():\n",
    "    if i.endswith('.jpg'):\n",
    "        img = Image.open(i)\n",
    "        filename,extension = os.path.splitext(i)\n",
    "        img.save(f'{filename}.png')"
   ]
  },
  {
   "cell_type": "code",
   "execution_count": 7,
   "metadata": {},
   "outputs": [],
   "source": [
    "# Sharpness\n",
    "#  0 ---> blurry, 1 = normal, 2 = shapen, 3 = more sharpen and so on\n",
    "from PIL import Image,ImageEnhance\n",
    "import os\n",
    "img = Image.open(r'C:\\Users\\Dell\\OneDrive\\Desktop\\client\\cat\\cat.jpg')\n",
    "e = ImageEnhance.Sharpness(img)\n",
    "e.enhance(6).save('cat1.jpg')"
   ]
  },
  {
   "cell_type": "code",
   "execution_count": 11,
   "metadata": {},
   "outputs": [],
   "source": [
    "# Brightness\n",
    "#  0 ---> Back image, 1 = normal/orginal , 2 = increase brughtness, 3 = more brightness and so on\n",
    "from PIL import Image,ImageEnhance\n",
    "import os\n",
    "img = Image.open(r'C:\\Users\\Dell\\OneDrive\\Desktop\\client\\cat\\cat.jpg')\n",
    "e = ImageEnhance.Brightness(img)\n",
    "e.enhance(1.5).save(r'C:\\Users\\Dell\\OneDrive\\Desktop\\client\\cat\\cat1.jpg')"
   ]
  },
  {
   "cell_type": "code",
   "execution_count": 13,
   "metadata": {},
   "outputs": [],
   "source": [
    "# Contrast\n",
    "#  0 ---> blank, 1 = normal/orginal , 2 = increase contrast, 3 = more contrast and so on\n",
    "from PIL import Image,ImageEnhance\n",
    "import os\n",
    "img = Image.open(r'C:\\Users\\Dell\\OneDrive\\Desktop\\client\\cat\\cat.jpg')\n",
    "e = ImageEnhance.Contrast(img)\n",
    "e.enhance(3).save(r'C:\\Users\\Dell\\OneDrive\\Desktop\\client\\cat\\cat1.jpg')"
   ]
  },
  {
   "cell_type": "code",
   "execution_count": 16,
   "metadata": {},
   "outputs": [],
   "source": [
    "# blur\n",
    "#  0 ---> blank, 1 = normal/orginal , 2 = increase bluring, 3 = more bluring and so on\n",
    "from PIL import Image,ImageEnhance,ImageFilter\n",
    "import os\n",
    "img = Image.open(r'C:\\Users\\Dell\\OneDrive\\Desktop\\client\\cat\\cat.jpg')\n",
    "img.filter(ImageFilter.GaussianBlur(radius = 4)).save(r'C:\\Users\\Dell\\OneDrive\\Desktop\\client\\cat\\cat1.jpg')\n"
   ]
  },
  {
   "cell_type": "code",
   "execution_count": null,
   "metadata": {},
   "outputs": [],
   "source": []
  }
 ],
 "metadata": {
  "kernelspec": {
   "display_name": "Python 3",
   "language": "python",
   "name": "python3"
  },
  "language_info": {
   "codemirror_mode": {
    "name": "ipython",
    "version": 3
   },
   "file_extension": ".py",
   "mimetype": "text/x-python",
   "name": "python",
   "nbconvert_exporter": "python",
   "pygments_lexer": "ipython3",
   "version": "3.7.1"
  }
 },
 "nbformat": 4,
 "nbformat_minor": 2
}
