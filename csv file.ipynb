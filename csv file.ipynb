{
 "cells": [
  {
   "cell_type": "markdown",
   "metadata": {},
   "source": [
    "1) What are csv files??\n",
    "    . How to read csv files\n",
    "    . Print data in dict order\n",
    "2) How to write on csv file?\n",
    "    . writer method to write in a csv file\n",
    "    . DictWriter method to write in a csv file\n",
    "3) Read and Write in csv file simultaneously. "
   ]
  },
  {
   "cell_type": "code",
   "execution_count": 2,
   "metadata": {},
   "outputs": [
    {
     "name": "stdout",
     "output_type": "stream",
     "text": [
      "['Umair', 'tariq', '22']\n",
      "['Anas', 'Rana', '29']\n"
     ]
    }
   ],
   "source": [
    "# reader\n",
    "from csv import reader\n",
    "with open('first.csv') as f:\n",
    "    c = reader(f)\n",
    "#     next(c)\n",
    "    for i in c:\n",
    "        print(i)"
   ]
  },
  {
   "cell_type": "code",
   "execution_count": 6,
   "metadata": {},
   "outputs": [
    {
     "name": "stdout",
     "output_type": "stream",
     "text": [
      "Umair\n",
      "Anas\n"
     ]
    }
   ],
   "source": [
    "# DictReader module\n",
    "from csv import DictReader \n",
    "with open('first.csv') as f:\n",
    "    c = DictReader(f)\n",
    "    for i in c:\n",
    "        print(i['Firstname'])"
   ]
  },
  {
   "cell_type": "code",
   "execution_count": 8,
   "metadata": {},
   "outputs": [],
   "source": [
    "from csv import writer\n",
    "with open('first.csv','w',newline = '') as f:\n",
    "    c = writer(f)\n",
    "    c.writerows([['name','age'],['umair',22],['Anas',78]])\n",
    "#     c.writerow(['Umair',22])\n",
    "#     c.writerow(['Murtiz',34])"
   ]
  },
  {
   "cell_type": "code",
   "execution_count": 10,
   "metadata": {},
   "outputs": [],
   "source": [
    "# DictWriter method\n",
    "from csv import DictWriter\n",
    "with open('first.csv','w',newline = '') as f:\n",
    "    c = DictWriter(f,fieldnames = ['Firstname','lastname','age'])\n",
    "    c.writeheader()\n",
    "    c.writerows([\n",
    "        {'Firstname' : 'Umair', 'lastname' : 'tariq', 'age' : 22},\n",
    "        {'Firstname' : 'Anas', 'lastname' : 'Rana', 'age' : 44}\n",
    "    ])"
   ]
  },
  {
   "cell_type": "code",
   "execution_count": 14,
   "metadata": {},
   "outputs": [],
   "source": [
    "from csv import DictReader,DictWriter\n",
    "with open('first.csv','r') as rf:\n",
    "    with open('file1.csv','w') as wf:\n",
    "        r = DictReader(rf)\n",
    "        w = DictWriter(wf,fieldnames = ['Firstname','lastname','age'])\n",
    "        w.writeheader()\n",
    "        for i in r:\n",
    "            a,b,c = i['Firstname'],i['lastname'],i['age']\n",
    "            w.writerows([{\n",
    "                'Firstname' : a.upper(),\n",
    "                'lastname' : b.upper(),\n",
    "                'age' : c\n",
    "            }])"
   ]
  },
  {
   "cell_type": "code",
   "execution_count": null,
   "metadata": {},
   "outputs": [],
   "source": []
  }
 ],
 "metadata": {
  "kernelspec": {
   "display_name": "Python 3",
   "language": "python",
   "name": "python3"
  },
  "language_info": {
   "codemirror_mode": {
    "name": "ipython",
    "version": 3
   },
   "file_extension": ".py",
   "mimetype": "text/x-python",
   "name": "python",
   "nbconvert_exporter": "python",
   "pygments_lexer": "ipython3",
   "version": "3.7.1"
  }
 },
 "nbformat": 4,
 "nbformat_minor": 2
}
