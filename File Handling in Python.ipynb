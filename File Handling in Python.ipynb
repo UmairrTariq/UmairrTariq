{
 "cells": [
  {
   "cell_type": "markdown",
   "metadata": {},
   "source": [
    "1) Basic file handling\n",
    "    . How to read a file\n",
    "    . How to know and change cursor position in a file\n",
    "    . How to read file line by line\n",
    "    . How to know the name of our file\n",
    "2) Write in a file\n",
    "    . 'w' mode\n",
    "    . 'a' mode\n",
    "    . 'r+' mode\n",
    "3) Practice Problem"
   ]
  },
  {
   "cell_type": "code",
   "execution_count": 8,
   "metadata": {},
   "outputs": [
    {
     "name": "stdout",
     "output_type": "stream",
     "text": [
      "55\n"
     ]
    }
   ],
   "source": [
    "f = open('file.txt')\n",
    "# print(f.read())\n",
    "# print(f'The cursor position is {f.tell()}')\n",
    "f.seek(55)\n",
    "print(f.tell())\n",
    "f.close()"
   ]
  },
  {
   "cell_type": "code",
   "execution_count": 11,
   "metadata": {},
   "outputs": [
    {
     "name": "stdout",
     "output_type": "stream",
     "text": [
      "Umair\n",
      "Anas\n",
      "\n"
     ]
    }
   ],
   "source": [
    "f = open('file.txt')\n",
    "print(f.readline(),end = '')\n",
    "print(f.readline())\n",
    "f.close()"
   ]
  },
  {
   "cell_type": "code",
   "execution_count": 17,
   "metadata": {},
   "outputs": [
    {
     "name": "stdout",
     "output_type": "stream",
     "text": [
      "['Umair\\n', 'Anas\\n', 'David']\n",
      "file.txt\n"
     ]
    }
   ],
   "source": [
    "f = open('file.txt')\n",
    "l = f.readlines()\n",
    "print(l)\n",
    "print(f.name)\n",
    "f.close()"
   ]
  },
  {
   "cell_type": "code",
   "execution_count": 18,
   "metadata": {},
   "outputs": [
    {
     "name": "stdout",
     "output_type": "stream",
     "text": [
      "file.txt\n"
     ]
    }
   ],
   "source": [
    "print(f.name)"
   ]
  },
  {
   "cell_type": "code",
   "execution_count": 19,
   "metadata": {},
   "outputs": [
    {
     "name": "stdout",
     "output_type": "stream",
     "text": [
      "False\n",
      "True\n"
     ]
    }
   ],
   "source": [
    "f = open('file.txt')\n",
    "print(f.closed)\n",
    "f.close()\n",
    "print(f.closed)"
   ]
  },
  {
   "cell_type": "code",
   "execution_count": 20,
   "metadata": {},
   "outputs": [
    {
     "name": "stdout",
     "output_type": "stream",
     "text": [
      "Umair\n",
      "Anas\n",
      "David\n"
     ]
    }
   ],
   "source": [
    "with open('file.txt') as f:\n",
    "    data = f.read()\n",
    "    print(data)"
   ]
  },
  {
   "cell_type": "code",
   "execution_count": 23,
   "metadata": {},
   "outputs": [],
   "source": [
    "with open('file.txt','w') as f:\n",
    "    f.write('John')"
   ]
  },
  {
   "cell_type": "code",
   "execution_count": 24,
   "metadata": {},
   "outputs": [],
   "source": [
    "with open('file.txt','a') as f:\n",
    "    f.write('Umair')"
   ]
  },
  {
   "cell_type": "code",
   "execution_count": 26,
   "metadata": {},
   "outputs": [],
   "source": [
    "with open(\"file.txt\",'r+') as f:\n",
    "    f.seek(len(f.read()))\n",
    "    f.write(\"\\n Anas u have gained some weight again! XD\")"
   ]
  },
  {
   "cell_type": "code",
   "execution_count": 28,
   "metadata": {},
   "outputs": [
    {
     "name": "stdout",
     "output_type": "stream",
     "text": [
      "Enter ur name: Umair,Anas,David,Ali\n",
      "Enter ur salaries 239000,4567,67800,49000\n"
     ]
    }
   ],
   "source": [
    "# Practice problem \n",
    "with open('file.txt','a') as f:\n",
    "    a,b,c,d = input('Enter ur name: ').split(',')\n",
    "    s1,s2,s3,s4 = input(\"Enter ur salaries \").split(\",\")\n",
    "    f.write(f'{a} , {s1}')\n",
    "    f.write(f'{b} , {s2}')\n",
    "    f.write(f'{c} , {s3}')\n",
    "    f.write(f'{d} , {s4}')\n",
    "    with open('file1.txt','a') as g:\n",
    "        g.write(f'{a}\\'s salary is {s1}')\n",
    "        g.write(f'\\n{b}\\'s salary is {s2}')\n",
    "        g.write(f'\\n{c}\\'s salary is {s3}')\n",
    "        g.write(f'\\n{d}\\'s salary is {s4}')"
   ]
  },
  {
   "cell_type": "code",
   "execution_count": 29,
   "metadata": {},
   "outputs": [
    {
     "name": "stdout",
     "output_type": "stream",
     "text": [
      "Umair's salary is 239000\n",
      "Anas's salary is 4567\n",
      "David's salary is 67800\n",
      "Ali's salary is 49000\n"
     ]
    }
   ],
   "source": [
    "with open('file1.txt') as f:\n",
    "    print(f.read())"
   ]
  },
  {
   "cell_type": "code",
   "execution_count": null,
   "metadata": {},
   "outputs": [],
   "source": []
  }
 ],
 "metadata": {
  "kernelspec": {
   "display_name": "Python 3",
   "language": "python",
   "name": "python3"
  },
  "language_info": {
   "codemirror_mode": {
    "name": "ipython",
    "version": 3
   },
   "file_extension": ".py",
   "mimetype": "text/x-python",
   "name": "python",
   "nbconvert_exporter": "python",
   "pygments_lexer": "ipython3",
   "version": "3.7.1"
  }
 },
 "nbformat": 4,
 "nbformat_minor": 2
}
